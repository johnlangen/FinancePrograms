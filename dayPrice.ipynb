{
 "cells": [
  {
   "cell_type": "code",
   "execution_count": 108,
   "id": "1fe7bf55-1649-40e5-b300-4f93973526ce",
   "metadata": {},
   "outputs": [
    {
     "name": "stdout",
     "output_type": "stream",
     "text": [
      "([22.620001, 14.73, 448.359985], [21.725, 13.01, 442.040009], [1345400.0, 17254814.0, 836200.0], [0.85, -5.985, 0.867])\n"
     ]
    }
   ],
   "source": [
    "# this program gets the historical stock data for a given day, including the % change, high, low, and volume\n",
    "\n",
    "# API key for data = d7c3bb0b67da3ace468bb315d918e92b\n",
    "\n",
    "# data to compare text against will be gathered with this API\n",
    "\n",
    "try:\n",
    "    # For Python 3.0 and later\n",
    "    from urllib.request import urlopen\n",
    "except ImportError:\n",
    "    # Fall back to Python 2's urllib2\n",
    "    from urllib2 import urlopen\n",
    "\n",
    "import certifi\n",
    "import json\n",
    "\n",
    "def get_jsonparsed_data(url):\n",
    "    response = urlopen(url)\n",
    "    data = response.read().decode(\"utf-8\")\n",
    "    return json.loads(data)\n",
    "\n",
    "\n",
    "def getInfo(symbol, highList, lowList, dailyVolumeList, percentChange):\n",
    "    \n",
    "    URLWithTicker3 = \"https://financialmodelingprep.com/api/v3/historical-price-full/\"+symbol+\"?from=2021-10-18&to=2021-10-18&apikey=d7c3bb0b67da3ace468bb315d918e92b\"\n",
    "    url = (URLWithTicker3)\n",
    "    dataList = get_jsonparsed_data(url)\n",
    "    \n",
    "    if dataList == {}:\n",
    "        highList.append(0)\n",
    "        lowList.append(0)\n",
    "        dailyVolumeList.append(0)\n",
    "        percentChange.append(0)\n",
    "        \n",
    "\n",
    "    else:\n",
    "        keyValues = dataList['historical'][0]\n",
    "        highList.append(keyValues['high'])\n",
    "        lowList.append(keyValues['low'])\n",
    "        percentChange.append(keyValues['changePercent'])\n",
    "        if 'volume' in keyValues:\n",
    "            dailyVolumeList.append(keyValues['volume']) \n",
    "        else:\n",
    "            dailyVolumeList.append(0) \n",
    "            \n",
    "        \n",
    "    return highList, lowList, dailyVolumeList\n",
    "    \n",
    "def stockData(dataList):\n",
    "    x = 0\n",
    "    highList = []\n",
    "    lowList = []\n",
    "    dailyVolumeList = []\n",
    "    percentChange = []\n",
    "    \n",
    "    while x < len(dataList):\n",
    "        getInfo(dataList[x], highList, lowList, dailyVolumeList, percentChange)\n",
    "        x = x + 1\n",
    "    return highList, lowList, dailyVolumeList, percentChange, \n",
    "    \n",
    "\n",
    "\n",
    "dataList3 = ['VRM', 'RVNC', 'SPGI']\n",
    "\n",
    "data3 = stockData(dataList3)\n",
    "\n",
    "print(data3)\n",
    "\n",
    "# IMPORTANT TO LOOK AT WHAT % of the shares in the float -= regress that against volatility - highier % = more volatility, or lower float and higher %? \n",
    "            \n"
   ]
  },
  {
   "cell_type": "code",
   "execution_count": null,
   "id": "78c90a10-a008-4cc6-9867-232095ae9669",
   "metadata": {},
   "outputs": [],
   "source": []
  }
 ],
 "metadata": {
  "kernelspec": {
   "display_name": "Python 3",
   "language": "python",
   "name": "python3"
  },
  "language_info": {
   "codemirror_mode": {
    "name": "ipython",
    "version": 3
   },
   "file_extension": ".py",
   "mimetype": "text/x-python",
   "name": "python",
   "nbconvert_exporter": "python",
   "pygments_lexer": "ipython3",
   "version": "3.8.8"
  }
 },
 "nbformat": 4,
 "nbformat_minor": 5
}
