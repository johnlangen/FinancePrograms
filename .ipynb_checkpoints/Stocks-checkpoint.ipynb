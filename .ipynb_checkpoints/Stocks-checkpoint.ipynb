{
 "cells": [
  {
   "cell_type": "code",
   "execution_count": 1,
   "id": "1e623a12-f714-46dc-973d-f0f8fe9dd164",
   "metadata": {},
   "outputs": [],
   "source": [
    "# this program web scrapes news in real time,\n",
    "# then uses the Yahoo Finance API to get the stock data"
   ]
  },
  {
   "cell_type": "code",
   "execution_count": 2,
   "id": "f51daf46-3549-4fdf-8abf-775a447f40d5",
   "metadata": {},
   "outputs": [
    {
     "name": "stdout",
     "output_type": "stream",
     "text": [
      "                  Open   High         Low       Close     Volume  Dividends  \\\n",
      "Date                                                                          \n",
      "2022-03-16  157.050003  160.0  154.460007  159.589996  101965749          0   \n",
      "\n",
      "            Stock Splits  \n",
      "Date                      \n",
      "2022-03-16             0  \n",
      "157.0500030517578\n",
      "157.0500030517578\n",
      "160.0\n",
      "154.4600067138672\n",
      "159.58999633789062\n",
      "101965749.0\n"
     ]
    }
   ],
   "source": [
    "import pandas as pd\n",
    "import numpy as np\n",
    "import matplotlib.pyplot as plt\n",
    "\n",
    "import yfinance as yf\n",
    "ticker = yf.Ticker('AAPL')\n",
    "aapl_df = ticker.history(period=\"1d\")\n",
    "print(aapl_df)\n",
    "\n",
    "dataArray = []\n",
    "dataArray = aapl_df.values[0]\n",
    "print(dataArray[0])\n",
    "\n",
    "dataArray = dataArray[:5]\n",
    "\n",
    "for i in dataArray:\n",
    "    print(i)\n",
    "\n",
    "# goal with this data \n",
    "# --> figure out how correlated key phrases are with MAX percent increase\n",
    "# can eventually map out WHEN those max and mins occured relative to news\n",
    "# also check the volume compared to average volume\n",
    "\n",
    "# when analysis is done, will need an API to be able to get real time data\n",
    "    "
   ]
  },
  {
   "cell_type": "code",
   "execution_count": 3,
   "id": "edb20955-2e87-4cd5-bcc9-fdf54162c491",
   "metadata": {},
   "outputs": [
    {
     "name": "stdout",
     "output_type": "stream",
     "text": [
      "157.0500030517578 160.0 154.4600067138672 159.58999633789062 101965749.0\n",
      "the percent increase for the day was 1.62 %\n",
      "the percent increase from the max and min is 3.59 %\n"
     ]
    },
    {
     "data": {
      "text/plain": [
       "'the volume is (current) to compare to average'"
      ]
     },
     "execution_count": 3,
     "metadata": {},
     "output_type": "execute_result"
    }
   ],
   "source": [
    "# finding the percent increase or decrease - both open and close and high and low\n",
    "Open = dataArray[0]\n",
    "High = dataArray[1]\n",
    "Low = dataArray[2]\n",
    "Close = dataArray[3]\n",
    "Volume = dataArray[4]\n",
    "\n",
    "print(Open,High,Low,Close,Volume)\n",
    "openClose = ((Close-Open)/Open) * 100\n",
    "highLow = ((High-Low)/Low) * 100\n",
    "\n",
    "\n",
    "\n",
    "print(\"the percent increase for the day was\" , round(openClose, 2) , \"%\")\n",
    "print(\"the percent increase from the max and min is\" , round(highLow, 2) , \"%\")\n",
    "\n",
    "(\"the outstanding and private floats are\")\n",
    "(\"the average volume is\")\n",
    "(\"the current price is (first will be news price\")\n",
    "\n",
    "(\"the volume is (current) to compare to average\")\n",
    "\n",
    "\n",
    "\n",
    "\n",
    "\n",
    "\n",
    "# going to need the beta, average volume, the float, total market performance for a day\n",
    "# stocks current price at the time of news \n",
    "    # --> takes the stock names and gets all the data periodically"
   ]
  },
  {
   "cell_type": "code",
   "execution_count": 23,
   "id": "9e3f70db-a4b9-46ad-92f6-e270aa2d22ad",
   "metadata": {},
   "outputs": [
    {
     "name": "stdout",
     "output_type": "stream",
     "text": [
      "the symbol is: AAPL\n",
      "the average volume is: 94610615\n",
      "the market cap is: 2675494354944\n",
      "the price is: 159.59\n",
      "the beta is: 1.185531\n",
      "the symbol is: AAPL\n",
      "the free float is: 99.89825136913662\n",
      "the float shares are: 16302795170.0\n",
      "the outstanding shares are: 16319399936.0\n",
      "date : 2022-03-16 16:00:00\n",
      "open : 159.6\n",
      "high : 159.63\n",
      "low  159.25\n",
      "close : 159.385\n",
      "volume: 1117855.0\n",
      "ema : 159.06273556493056\n"
     ]
    }
   ],
   "source": [
    "# API key for data = d7c3bb0b67da3ace468bb315d918e92b\n",
    "\n",
    "# data to compare text against will be gathered with this API\n",
    "\n",
    "try:\n",
    "    # For Python 3.0 and later\n",
    "    from urllib.request import urlopen\n",
    "except ImportError:\n",
    "    # Fall back to Python 2's urllib2\n",
    "    from urllib2 import urlopen\n",
    "\n",
    "import certifi\n",
    "import json\n",
    "\n",
    "def get_jsonparsed_data(url):\n",
    "    response = urlopen(url)\n",
    "    data = response.read().decode(\"utf-8\")\n",
    "    return json.loads(data)\n",
    "\n",
    "\n",
    "Ticker = \"AAPL\"\n",
    "URLWithTicker = \"https://financialmodelingprep.com/api/v3/profile/\" + Ticker + \"?apikey=d7c3bb0b67da3ace468bb315d918e92b\"\n",
    "url = (URLWithTicker)\n",
    "dataList = get_jsonparsed_data(url)\n",
    "finalList = dataList[0]\n",
    "\n",
    "print(\"the symbol is:\", finalList['symbol'])\n",
    "print(\"the average volume is:\", finalList['volAvg'])\n",
    "print(\"the market cap is:\", finalList['mktCap'])\n",
    "print(\"the price is:\", finalList['price'])\n",
    "print(\"the beta is:\", finalList['beta\\n\\n'])\n",
    "\n",
    "# data to compare text against will be gathered with this API\n",
    "\n",
    "URLWithTicker2 = \"https://financialmodelingprep.com/api/v4/shares_float?symbol=\" + Ticker + \"&apikey=d7c3bb0b67da3ace468bb315d918e92b\"\n",
    "url = (URLWithTicker2)\n",
    "dataList = get_jsonparsed_data(url)\n",
    "finalList = dataList[0]\n",
    "\n",
    "print(\"the symbol is:\", finalList['symbol'])\n",
    "print(\"the free float is:\", finalList['freeFloat'])\n",
    "print(\"the float shares are:\", finalList['floatShares'])\n",
    "print(\"the outstanding shares are:\", finalList['outstandingShares\\n\\n'])\n",
    "\n",
    "\n",
    "URLWithTicker3 = \"https://financialmodelingprep.com/api/v3/technical_indicator/1min/\" + Ticker + \"?period=10&type=ema&apikey=d7c3bb0b67da3ace468bb315d918e92b\"\n",
    "url = (URLWithTicker3)\n",
    "dataList = get_jsonparsed_data(url)\n",
    "finalList = dataList[0]\n",
    "\n",
    "print(\"date :\", finalList['date'])\n",
    "print(\"open :\", finalList['open'])\n",
    "print(\"high :\", finalList['high'])\n",
    "print(\"low \", finalList['low'])\n",
    "print(\"close :\", finalList['close'])\n",
    "print(\"volume:\", finalList['volume'])\n",
    "print(\"ema :\", finalList['ema\\n\\n'])\n",
    "\n",
    "\n",
    "\n",
    "\n",
    "\n",
    "\n",
    "# still need current volume and float\n",
    "\n",
    "\n",
    "# top gainer API AGAINST the news API\n",
    "\n",
    "# makes sure the volume is accounted for pre market and not just during the day\n",
    "\n",
    "# can do the same with crypto... will require folliwng and different analysis\n",
    "\n",
    "# test \n",
    "    # if there is a close beta to the market and the market does well with good news\n",
    "    # if the float has a correlation with good news and price movement\n",
    "    # tracking volume higher than average volume, then comparing news and float\n",
    "    # how easily the stock moves is in float, but can also look at the high and low in the last 30+ days to show volatility\n",
    "    # check current volatility levels with 5 min price movements\n",
    "    # MAKE SURE DATA IS AVAILBILE PREMARKET \n",
    "    \n",
    "# for ML\n",
    "    # can give all stock data for sentiment analysis - then compare sentiments to actual price movements\n",
    "    # can TELL it if it is negative or positive, have a large data set\n",
    "    \n",
    "# TODO\n",
    "    # create a web scraper to save the information from the news, and save it to a database\n"
   ]
  },
  {
   "cell_type": "code",
   "execution_count": 10,
   "id": "f1727ca5-71a7-4c2b-96e4-13b22e2a925c",
   "metadata": {},
   "outputs": [
    {
     "name": "stdout",
     "output_type": "stream",
     "text": [
      "the symbol is: AAPL\n",
      "the free float is: 99.89825136913662\n",
      "the float shares are: 16302795170.0\n",
      "the outstanding shares are: 16319399936.0\n"
     ]
    }
   ],
   "source": [
    "\n",
    "\n",
    "\n",
    "\n"
   ]
  },
  {
   "cell_type": "code",
   "execution_count": null,
   "id": "13d23a74-9e1e-47e6-a2e1-252cb14153d8",
   "metadata": {},
   "outputs": [],
   "source": []
  },
  {
   "cell_type": "code",
   "execution_count": null,
   "id": "23ebbcbe-420f-4e59-9664-05857b4aae40",
   "metadata": {},
   "outputs": [],
   "source": []
  },
  {
   "cell_type": "code",
   "execution_count": null,
   "id": "0e943f0a-595e-4d9e-9ee9-597e566d7e86",
   "metadata": {},
   "outputs": [],
   "source": []
  },
  {
   "cell_type": "code",
   "execution_count": null,
   "id": "fbe77b83-99f9-4c4c-9b4e-3fe0d18f915c",
   "metadata": {},
   "outputs": [],
   "source": []
  },
  {
   "cell_type": "code",
   "execution_count": null,
   "id": "b9732d3a-a83a-459b-9fee-85417824d3bb",
   "metadata": {},
   "outputs": [],
   "source": []
  }
 ],
 "metadata": {
  "kernelspec": {
   "display_name": "Python 3",
   "language": "python",
   "name": "python3"
  },
  "language_info": {
   "codemirror_mode": {
    "name": "ipython",
    "version": 3
   },
   "file_extension": ".py",
   "mimetype": "text/x-python",
   "name": "python",
   "nbconvert_exporter": "python",
   "pygments_lexer": "ipython3",
   "version": "3.8.8"
  }
 },
 "nbformat": 4,
 "nbformat_minor": 5
}
